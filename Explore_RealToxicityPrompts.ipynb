{
  "nbformat": 4,
  "nbformat_minor": 0,
  "metadata": {
    "colab": {
      "provenance": [],
      "authorship_tag": "ABX9TyMjcoTGFaYcUuKlyL+5Y2ad",
      "include_colab_link": true
    },
    "kernelspec": {
      "name": "python3",
      "display_name": "Python 3"
    },
    "language_info": {
      "name": "python"
    }
  },
  "cells": [
    {
      "cell_type": "markdown",
      "metadata": {
        "id": "view-in-github",
        "colab_type": "text"
      },
      "source": [
        "<a href=\"https://colab.research.google.com/github/andersonfaller/detoxlm/blob/main/Explore_RealToxicityPrompts.ipynb\" target=\"_parent\"><img src=\"https://colab.research.google.com/assets/colab-badge.svg\" alt=\"Open In Colab\"/></a>"
      ]
    },
    {
      "cell_type": "markdown",
      "source": [
        "# RealToxicityPrompts"
      ],
      "metadata": {
        "id": "HKsD4xzWuKeI"
      }
    },
    {
      "cell_type": "code",
      "source": [],
      "metadata": {
        "id": "d1f4N1weuKIn"
      },
      "execution_count": null,
      "outputs": []
    },
    {
      "cell_type": "code",
      "execution_count": null,
      "metadata": {
        "id": "Z4nDNZZmuHs7"
      },
      "outputs": [],
      "source": []
    }
  ]
}